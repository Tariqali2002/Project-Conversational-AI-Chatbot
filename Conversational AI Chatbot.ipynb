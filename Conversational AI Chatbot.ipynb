{
 "cells": [
  {
   "cell_type": "code",
   "execution_count": null,
   "id": "eb17c535",
   "metadata": {},
   "outputs": [
    {
     "name": "stderr",
     "output_type": "stream",
     "text": [
      "[nltk_data] Downloading package punkt to\n",
      "[nltk_data]     C:\\Users\\Rajan\\AppData\\Roaming\\nltk_data...\n",
      "[nltk_data]   Package punkt is already up-to-date!\n"
     ]
    },
    {
     "name": "stdout",
     "output_type": "stream",
     "text": [
      "ChatBot: Hi there! I'm here to help. Type 'quit' to exit.\n"
     ]
    }
   ],
   "source": [
    "import nltk\n",
    "from nltk.chat.util import Chat, reflections\n",
    "\n",
    "# Downloading the necessary NLTK data files\n",
    "nltk.download('punkt')\n",
    "\n",
    "# Defining pairs of user inputs and bot responses\n",
    "pairs = [\n",
    "    [\n",
    "        r\"hi|hello|hey\",\n",
    "        [\"Hello! How can I assist you today?\", \"Hi there! What would you like to talk about?\"]\n",
    "    ],\n",
    "    [\n",
    "        r\"(.*) Tariq ali?\",\n",
    "        [\"I’m a virtual assistant. You can call me ChatBot!\"]\n",
    "    ],\n",
    "    [\n",
    "        r\"what (.*) you (.*)\",\n",
    "        [\"I can help you with a variety of topics. What do you need assistance with?\"]\n",
    "    ],\n",
    "    [\n",
    "        r\"tell me about (.*)\",\n",
    "        [\"Here’s some information about %1: [provide relevant information].\"]\n",
    "    ],\n",
    "    [\n",
    "        r\"(.*) recommendations?\",\n",
    "        [\"Sure! Based on your interest, I recommend: [provide recommendations].\"]\n",
    "    ],\n",
    "    [\n",
    "        r\"thanks|thank you\",\n",
    "        [\"You're welcome! If you have any more questions, feel free to ask!\"]\n",
    "    ],\n",
    "    [\n",
    "        r\"quit|exit\",\n",
    "        [\"Goodbye! Have a great day!\"]\n",
    "    ]\n",
    "]\n",
    "\n",
    "# Creating the chatbot\n",
    "chatbot = Chat(pairs, reflections)\n",
    "\n",
    "# Function to maintain conversation context\n",
    "def chatbot_conversation():\n",
    "    print(\"ChatBot: Hi there! I'm here to help. Type 'quit' to exit.\")\n",
    "    while True:\n",
    "        user_input = input(\"You: \")\n",
    "        if user_input.lower() in ['quit', 'exit']:\n",
    "            print(\"ChatBot: Goodbye! Have a great day!\")\n",
    "            break\n",
    "        response = chatbot.respond(user_input)\n",
    "        if response:\n",
    "            print(f\"ChatBot: {response}\")\n",
    "        else:\n",
    "            print(\"ChatBot: I'm sorry, I didn't understand that.\")\n",
    "\n",
    "# Start the conversation\n",
    "if __name__ == \"__main__\":\n",
    "    chatbot_conversation()"
   ]
  },
  {
   "cell_type": "code",
   "execution_count": null,
   "id": "3f059d29",
   "metadata": {},
   "outputs": [],
   "source": []
  }
 ],
 "metadata": {
  "kernelspec": {
   "display_name": "Python 3 (ipykernel)",
   "language": "python",
   "name": "python3"
  },
  "language_info": {
   "codemirror_mode": {
    "name": "ipython",
    "version": 3
   },
   "file_extension": ".py",
   "mimetype": "text/x-python",
   "name": "python",
   "nbconvert_exporter": "python",
   "pygments_lexer": "ipython3",
   "version": "3.11.5"
  }
 },
 "nbformat": 4,
 "nbformat_minor": 5
}
